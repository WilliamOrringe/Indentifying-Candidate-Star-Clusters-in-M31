{
 "cells": [
  {
   "cell_type": "code",
   "execution_count": 2,
   "outputs": [],
   "source": [
    "import astropy\n",
    "import pandas as pd\n",
    "import numpy as np"
   ],
   "metadata": {
    "collapsed": false
   }
  },
  {
   "cell_type": "code",
   "execution_count": 3,
   "metadata": {
    "collapsed": true
   },
   "outputs": [],
   "source": [
    "from astropy import units as u\n",
    "from astropy.coordinates import SkyCoord"
   ]
  },
  {
   "cell_type": "code",
   "execution_count": 4,
   "outputs": [],
   "source": [
    "import matplotlib.pyplot as plt"
   ],
   "metadata": {
    "collapsed": false
   }
  },
  {
   "cell_type": "code",
   "execution_count": 5,
   "outputs": [
    {
     "data": {
      "text/plain": "      Obs.Y  Obs.M  Obs.D  Obs.h  Obs.m  Obs.s           MJD  RAh  RAm    RAs  \\\n0      2003      8     22     11     29  38.27  52873.478915    1   33  51.00   \n1      2003      8     22     11     53  39.54  52873.495596    1   33  51.00   \n2      2003      8     24     12     51  34.76  52875.535819    1   33  50.99   \n3      2003      8     24     13     15  17.02  52875.552280    1   33  50.99   \n4      2003      8     24     13     28  28.93  52875.561446    1   33  51.00   \n...     ...    ...    ...    ...    ...    ...           ...  ...  ...    ...   \n2980   2011      2      5      5     27  47.38  55597.227632    0   35  28.02   \n2981   2011      2      5      5     36  10.22  55597.233452    0   50  18.89   \n2982   2011      2      5      5     44  30.22  55597.239239    0   50  19.31   \n2983   2011      2      5      5     52  48.86  55597.245010    0   50  20.15   \n2984   2011      2      5      6      4  45.87  55597.253309    0   50  20.14   \n\n      DEd  DEm   DEs    ExpID FieldID Other     PID    Filter  Exp  \n0      30   39  36.8   714745    m026  M33C  03BF15  g.MP9401  530  \n1      30   39  36.8   714747    m026  M33C  03BF15  i.MP9701  660  \n2      30   39  37.0   715147    m026  M33C  03BF15  g.MP9401  530  \n3      30   39  36.9   715149    m026  M33C  03BF15  i.MP9701  660  \n4      30   39  37.0   715150    m026  M33C  03BF15  g.MP9401  530  \n...   ...  ...   ...      ...     ...   ...     ...       ...  ...  \n2980   37   15  47.1  1277838    m167  m03i  10BP01  i.MP9702  450  \n2981   37   15  47.7  1277839    m166  m06i  10BP01  i.MP9702  450  \n2982   37   15  32.8  1277840    m166  m06i  10BP01  i.MP9702  450  \n2983   37   15  42.8  1277841    m166  m06i  10BP01  i.MP9702  450  \n2984   37   15  42.8  1277842    m166  m06i  10BP01  i.MP9702  450  \n\n[2985 rows x 19 columns]",
      "text/html": "<div>\n<style scoped>\n    .dataframe tbody tr th:only-of-type {\n        vertical-align: middle;\n    }\n\n    .dataframe tbody tr th {\n        vertical-align: top;\n    }\n\n    .dataframe thead th {\n        text-align: right;\n    }\n</style>\n<table border=\"1\" class=\"dataframe\">\n  <thead>\n    <tr style=\"text-align: right;\">\n      <th></th>\n      <th>Obs.Y</th>\n      <th>Obs.M</th>\n      <th>Obs.D</th>\n      <th>Obs.h</th>\n      <th>Obs.m</th>\n      <th>Obs.s</th>\n      <th>MJD</th>\n      <th>RAh</th>\n      <th>RAm</th>\n      <th>RAs</th>\n      <th>DEd</th>\n      <th>DEm</th>\n      <th>DEs</th>\n      <th>ExpID</th>\n      <th>FieldID</th>\n      <th>Other</th>\n      <th>PID</th>\n      <th>Filter</th>\n      <th>Exp</th>\n    </tr>\n  </thead>\n  <tbody>\n    <tr>\n      <th>0</th>\n      <td>2003</td>\n      <td>8</td>\n      <td>22</td>\n      <td>11</td>\n      <td>29</td>\n      <td>38.27</td>\n      <td>52873.478915</td>\n      <td>1</td>\n      <td>33</td>\n      <td>51.00</td>\n      <td>30</td>\n      <td>39</td>\n      <td>36.8</td>\n      <td>714745</td>\n      <td>m026</td>\n      <td>M33C</td>\n      <td>03BF15</td>\n      <td>g.MP9401</td>\n      <td>530</td>\n    </tr>\n    <tr>\n      <th>1</th>\n      <td>2003</td>\n      <td>8</td>\n      <td>22</td>\n      <td>11</td>\n      <td>53</td>\n      <td>39.54</td>\n      <td>52873.495596</td>\n      <td>1</td>\n      <td>33</td>\n      <td>51.00</td>\n      <td>30</td>\n      <td>39</td>\n      <td>36.8</td>\n      <td>714747</td>\n      <td>m026</td>\n      <td>M33C</td>\n      <td>03BF15</td>\n      <td>i.MP9701</td>\n      <td>660</td>\n    </tr>\n    <tr>\n      <th>2</th>\n      <td>2003</td>\n      <td>8</td>\n      <td>24</td>\n      <td>12</td>\n      <td>51</td>\n      <td>34.76</td>\n      <td>52875.535819</td>\n      <td>1</td>\n      <td>33</td>\n      <td>50.99</td>\n      <td>30</td>\n      <td>39</td>\n      <td>37.0</td>\n      <td>715147</td>\n      <td>m026</td>\n      <td>M33C</td>\n      <td>03BF15</td>\n      <td>g.MP9401</td>\n      <td>530</td>\n    </tr>\n    <tr>\n      <th>3</th>\n      <td>2003</td>\n      <td>8</td>\n      <td>24</td>\n      <td>13</td>\n      <td>15</td>\n      <td>17.02</td>\n      <td>52875.552280</td>\n      <td>1</td>\n      <td>33</td>\n      <td>50.99</td>\n      <td>30</td>\n      <td>39</td>\n      <td>36.9</td>\n      <td>715149</td>\n      <td>m026</td>\n      <td>M33C</td>\n      <td>03BF15</td>\n      <td>i.MP9701</td>\n      <td>660</td>\n    </tr>\n    <tr>\n      <th>4</th>\n      <td>2003</td>\n      <td>8</td>\n      <td>24</td>\n      <td>13</td>\n      <td>28</td>\n      <td>28.93</td>\n      <td>52875.561446</td>\n      <td>1</td>\n      <td>33</td>\n      <td>51.00</td>\n      <td>30</td>\n      <td>39</td>\n      <td>37.0</td>\n      <td>715150</td>\n      <td>m026</td>\n      <td>M33C</td>\n      <td>03BF15</td>\n      <td>g.MP9401</td>\n      <td>530</td>\n    </tr>\n    <tr>\n      <th>...</th>\n      <td>...</td>\n      <td>...</td>\n      <td>...</td>\n      <td>...</td>\n      <td>...</td>\n      <td>...</td>\n      <td>...</td>\n      <td>...</td>\n      <td>...</td>\n      <td>...</td>\n      <td>...</td>\n      <td>...</td>\n      <td>...</td>\n      <td>...</td>\n      <td>...</td>\n      <td>...</td>\n      <td>...</td>\n      <td>...</td>\n      <td>...</td>\n    </tr>\n    <tr>\n      <th>2980</th>\n      <td>2011</td>\n      <td>2</td>\n      <td>5</td>\n      <td>5</td>\n      <td>27</td>\n      <td>47.38</td>\n      <td>55597.227632</td>\n      <td>0</td>\n      <td>35</td>\n      <td>28.02</td>\n      <td>37</td>\n      <td>15</td>\n      <td>47.1</td>\n      <td>1277838</td>\n      <td>m167</td>\n      <td>m03i</td>\n      <td>10BP01</td>\n      <td>i.MP9702</td>\n      <td>450</td>\n    </tr>\n    <tr>\n      <th>2981</th>\n      <td>2011</td>\n      <td>2</td>\n      <td>5</td>\n      <td>5</td>\n      <td>36</td>\n      <td>10.22</td>\n      <td>55597.233452</td>\n      <td>0</td>\n      <td>50</td>\n      <td>18.89</td>\n      <td>37</td>\n      <td>15</td>\n      <td>47.7</td>\n      <td>1277839</td>\n      <td>m166</td>\n      <td>m06i</td>\n      <td>10BP01</td>\n      <td>i.MP9702</td>\n      <td>450</td>\n    </tr>\n    <tr>\n      <th>2982</th>\n      <td>2011</td>\n      <td>2</td>\n      <td>5</td>\n      <td>5</td>\n      <td>44</td>\n      <td>30.22</td>\n      <td>55597.239239</td>\n      <td>0</td>\n      <td>50</td>\n      <td>19.31</td>\n      <td>37</td>\n      <td>15</td>\n      <td>32.8</td>\n      <td>1277840</td>\n      <td>m166</td>\n      <td>m06i</td>\n      <td>10BP01</td>\n      <td>i.MP9702</td>\n      <td>450</td>\n    </tr>\n    <tr>\n      <th>2983</th>\n      <td>2011</td>\n      <td>2</td>\n      <td>5</td>\n      <td>5</td>\n      <td>52</td>\n      <td>48.86</td>\n      <td>55597.245010</td>\n      <td>0</td>\n      <td>50</td>\n      <td>20.15</td>\n      <td>37</td>\n      <td>15</td>\n      <td>42.8</td>\n      <td>1277841</td>\n      <td>m166</td>\n      <td>m06i</td>\n      <td>10BP01</td>\n      <td>i.MP9702</td>\n      <td>450</td>\n    </tr>\n    <tr>\n      <th>2984</th>\n      <td>2011</td>\n      <td>2</td>\n      <td>5</td>\n      <td>6</td>\n      <td>4</td>\n      <td>45.87</td>\n      <td>55597.253309</td>\n      <td>0</td>\n      <td>50</td>\n      <td>20.14</td>\n      <td>37</td>\n      <td>15</td>\n      <td>42.8</td>\n      <td>1277842</td>\n      <td>m166</td>\n      <td>m06i</td>\n      <td>10BP01</td>\n      <td>i.MP9702</td>\n      <td>450</td>\n    </tr>\n  </tbody>\n</table>\n<p>2985 rows × 19 columns</p>\n</div>"
     },
     "execution_count": 5,
     "metadata": {},
     "output_type": "execute_result"
    }
   ],
   "source": [
    "data = pd.read_csv(\"observations.txt\", names=['Obs.Y', 'Obs.M','Obs.D','Obs.h','Obs.m','Obs.s','MJD', 'RAh','RAm', 'RAs', 'DEd', 'DEm','DEs', 'ExpID','FieldID','Other','PID', 'Filter', 'Exp'], delim_whitespace=True)\n",
    "data"
   ],
   "metadata": {
    "collapsed": false
   }
  },
  {
   "cell_type": "code",
   "execution_count": 6,
   "outputs": [
    {
     "data": {
      "text/plain": "      Obs.Y  Obs.M  Obs.D  Obs.h  Obs.m  Obs.s           MJD  RAh  RAm    RAs  \\\n1658   2008     11      6      8     44  16.09  54776.364075    1   38  14.90   \n1659   2008     11      6      8     52  34.18  54776.369840    1   38  15.28   \n1660   2008     11      6      9      0  52.95  54776.375613    1   38  16.03   \n1673   2008     11     25      4     36   9.56  54795.191777    1   38  14.90   \n1675   2008     11     25      4     52  46.33  54795.203314    1   38  16.03   \n...     ...    ...    ...    ...    ...    ...           ...  ...  ...    ...   \n2570   2010      7     16     14      0   3.79  55393.583377    0   32  31.40   \n2569   2010      7     16     13     51  41.27  55393.577561    0   32  30.37   \n2568   2010      7     16     13     43  23.03  55393.571794    0   32  29.84   \n2547   2010      7     14     13      7  36.96  55391.546956    0   32  29.84   \n2548   2010      7     14     13     15  55.16  55391.552722    0   32  30.36   \n\n      DEd  DEm   DEs    ExpID FieldID  Other     PID    Filter  Exp  \n1658   27   38  24.0  1039337    m001  M3324  08BP02  g.MP9401  450  \n1659   27   38   9.0  1039338    m001  M3324  08BP02  g.MP9401  450  \n1660   27   38  19.0  1039339    m001  M3324  08BP02  g.MP9401  450  \n1673   27   38  23.9  1045301    m001  M3324  08BP02  i.MP9702  450  \n1675   27   38  19.0  1045303    m001  M3324  08BP02  i.MP9702  450  \n...   ...  ...   ...      ...     ...    ...     ...       ...  ...  \n2570   50    8  18.1  1215806    m406  TB_39  10BP01  i.MP9702  450  \n2569   50    8   8.1  1215805    m406  TB_39  10BP01  i.MP9702  450  \n2568   50    8  23.1  1215804    m406  TB_39  10BP01  i.MP9702  450  \n2547   50    8  23.0  1215490    m406  TB_39  10BP01  g.MP9401  450  \n2548   50    8   8.1  1215491    m406  TB_39  10BP01  g.MP9401  450  \n\n[2985 rows x 19 columns]",
      "text/html": "<div>\n<style scoped>\n    .dataframe tbody tr th:only-of-type {\n        vertical-align: middle;\n    }\n\n    .dataframe tbody tr th {\n        vertical-align: top;\n    }\n\n    .dataframe thead th {\n        text-align: right;\n    }\n</style>\n<table border=\"1\" class=\"dataframe\">\n  <thead>\n    <tr style=\"text-align: right;\">\n      <th></th>\n      <th>Obs.Y</th>\n      <th>Obs.M</th>\n      <th>Obs.D</th>\n      <th>Obs.h</th>\n      <th>Obs.m</th>\n      <th>Obs.s</th>\n      <th>MJD</th>\n      <th>RAh</th>\n      <th>RAm</th>\n      <th>RAs</th>\n      <th>DEd</th>\n      <th>DEm</th>\n      <th>DEs</th>\n      <th>ExpID</th>\n      <th>FieldID</th>\n      <th>Other</th>\n      <th>PID</th>\n      <th>Filter</th>\n      <th>Exp</th>\n    </tr>\n  </thead>\n  <tbody>\n    <tr>\n      <th>1658</th>\n      <td>2008</td>\n      <td>11</td>\n      <td>6</td>\n      <td>8</td>\n      <td>44</td>\n      <td>16.09</td>\n      <td>54776.364075</td>\n      <td>1</td>\n      <td>38</td>\n      <td>14.90</td>\n      <td>27</td>\n      <td>38</td>\n      <td>24.0</td>\n      <td>1039337</td>\n      <td>m001</td>\n      <td>M3324</td>\n      <td>08BP02</td>\n      <td>g.MP9401</td>\n      <td>450</td>\n    </tr>\n    <tr>\n      <th>1659</th>\n      <td>2008</td>\n      <td>11</td>\n      <td>6</td>\n      <td>8</td>\n      <td>52</td>\n      <td>34.18</td>\n      <td>54776.369840</td>\n      <td>1</td>\n      <td>38</td>\n      <td>15.28</td>\n      <td>27</td>\n      <td>38</td>\n      <td>9.0</td>\n      <td>1039338</td>\n      <td>m001</td>\n      <td>M3324</td>\n      <td>08BP02</td>\n      <td>g.MP9401</td>\n      <td>450</td>\n    </tr>\n    <tr>\n      <th>1660</th>\n      <td>2008</td>\n      <td>11</td>\n      <td>6</td>\n      <td>9</td>\n      <td>0</td>\n      <td>52.95</td>\n      <td>54776.375613</td>\n      <td>1</td>\n      <td>38</td>\n      <td>16.03</td>\n      <td>27</td>\n      <td>38</td>\n      <td>19.0</td>\n      <td>1039339</td>\n      <td>m001</td>\n      <td>M3324</td>\n      <td>08BP02</td>\n      <td>g.MP9401</td>\n      <td>450</td>\n    </tr>\n    <tr>\n      <th>1673</th>\n      <td>2008</td>\n      <td>11</td>\n      <td>25</td>\n      <td>4</td>\n      <td>36</td>\n      <td>9.56</td>\n      <td>54795.191777</td>\n      <td>1</td>\n      <td>38</td>\n      <td>14.90</td>\n      <td>27</td>\n      <td>38</td>\n      <td>23.9</td>\n      <td>1045301</td>\n      <td>m001</td>\n      <td>M3324</td>\n      <td>08BP02</td>\n      <td>i.MP9702</td>\n      <td>450</td>\n    </tr>\n    <tr>\n      <th>1675</th>\n      <td>2008</td>\n      <td>11</td>\n      <td>25</td>\n      <td>4</td>\n      <td>52</td>\n      <td>46.33</td>\n      <td>54795.203314</td>\n      <td>1</td>\n      <td>38</td>\n      <td>16.03</td>\n      <td>27</td>\n      <td>38</td>\n      <td>19.0</td>\n      <td>1045303</td>\n      <td>m001</td>\n      <td>M3324</td>\n      <td>08BP02</td>\n      <td>i.MP9702</td>\n      <td>450</td>\n    </tr>\n    <tr>\n      <th>...</th>\n      <td>...</td>\n      <td>...</td>\n      <td>...</td>\n      <td>...</td>\n      <td>...</td>\n      <td>...</td>\n      <td>...</td>\n      <td>...</td>\n      <td>...</td>\n      <td>...</td>\n      <td>...</td>\n      <td>...</td>\n      <td>...</td>\n      <td>...</td>\n      <td>...</td>\n      <td>...</td>\n      <td>...</td>\n      <td>...</td>\n      <td>...</td>\n    </tr>\n    <tr>\n      <th>2570</th>\n      <td>2010</td>\n      <td>7</td>\n      <td>16</td>\n      <td>14</td>\n      <td>0</td>\n      <td>3.79</td>\n      <td>55393.583377</td>\n      <td>0</td>\n      <td>32</td>\n      <td>31.40</td>\n      <td>50</td>\n      <td>8</td>\n      <td>18.1</td>\n      <td>1215806</td>\n      <td>m406</td>\n      <td>TB_39</td>\n      <td>10BP01</td>\n      <td>i.MP9702</td>\n      <td>450</td>\n    </tr>\n    <tr>\n      <th>2569</th>\n      <td>2010</td>\n      <td>7</td>\n      <td>16</td>\n      <td>13</td>\n      <td>51</td>\n      <td>41.27</td>\n      <td>55393.577561</td>\n      <td>0</td>\n      <td>32</td>\n      <td>30.37</td>\n      <td>50</td>\n      <td>8</td>\n      <td>8.1</td>\n      <td>1215805</td>\n      <td>m406</td>\n      <td>TB_39</td>\n      <td>10BP01</td>\n      <td>i.MP9702</td>\n      <td>450</td>\n    </tr>\n    <tr>\n      <th>2568</th>\n      <td>2010</td>\n      <td>7</td>\n      <td>16</td>\n      <td>13</td>\n      <td>43</td>\n      <td>23.03</td>\n      <td>55393.571794</td>\n      <td>0</td>\n      <td>32</td>\n      <td>29.84</td>\n      <td>50</td>\n      <td>8</td>\n      <td>23.1</td>\n      <td>1215804</td>\n      <td>m406</td>\n      <td>TB_39</td>\n      <td>10BP01</td>\n      <td>i.MP9702</td>\n      <td>450</td>\n    </tr>\n    <tr>\n      <th>2547</th>\n      <td>2010</td>\n      <td>7</td>\n      <td>14</td>\n      <td>13</td>\n      <td>7</td>\n      <td>36.96</td>\n      <td>55391.546956</td>\n      <td>0</td>\n      <td>32</td>\n      <td>29.84</td>\n      <td>50</td>\n      <td>8</td>\n      <td>23.0</td>\n      <td>1215490</td>\n      <td>m406</td>\n      <td>TB_39</td>\n      <td>10BP01</td>\n      <td>g.MP9401</td>\n      <td>450</td>\n    </tr>\n    <tr>\n      <th>2548</th>\n      <td>2010</td>\n      <td>7</td>\n      <td>14</td>\n      <td>13</td>\n      <td>15</td>\n      <td>55.16</td>\n      <td>55391.552722</td>\n      <td>0</td>\n      <td>32</td>\n      <td>30.36</td>\n      <td>50</td>\n      <td>8</td>\n      <td>8.1</td>\n      <td>1215491</td>\n      <td>m406</td>\n      <td>TB_39</td>\n      <td>10BP01</td>\n      <td>g.MP9401</td>\n      <td>450</td>\n    </tr>\n  </tbody>\n</table>\n<p>2985 rows × 19 columns</p>\n</div>"
     },
     "execution_count": 6,
     "metadata": {},
     "output_type": "execute_result"
    }
   ],
   "source": [
    "sorted_table = data.sort_values(by=['FieldID'])\n",
    "sorted_table"
   ],
   "metadata": {
    "collapsed": false
   }
  },
  {
   "cell_type": "code",
   "execution_count": 7,
   "outputs": [],
   "source": [
    "def convertCoord(values):\n",
    "    row = values[1]\n",
    "    coords = [str(row['RAh']) + ' ' + str(row['RAm']) + ' ' + str(row['RAs']), str(row['DEd']) + ' ' + str(row['DEm'])+ ' ' + str(row['DEs'])]\n",
    "    return SkyCoord(coords[0], coords[1], frame='icrs', unit=(u.hourangle, u.deg))"
   ],
   "metadata": {
    "collapsed": false
   }
  },
  {
   "cell_type": "code",
   "execution_count": 8,
   "outputs": [],
   "source": [
    "from astropy.coordinates import search_around_sky\n",
    "from astropy import units\n",
    "def search_file(table_data, current_coords):\n",
    "    for row in table_data.iterrows():\n",
    "        make_new_coord = SkyCoord(row[1]['RA'], row[1]['Dec'], frame='icrs', unit=(u.hourangle, u.deg))\n",
    "        if search_around_sky(make_new_coord, current_coords, astropy.units.arcsec * 60):\n",
    "            print('hi')\n",
    "        else:\n",
    "            print('noo')\n",
    "        return make_new_coord"
   ],
   "metadata": {
    "collapsed": false
   }
  },
  {
   "cell_type": "code",
   "execution_count": 9,
   "outputs": [
    {
     "ename": "FileNotFoundError",
     "evalue": "[Errno 2] No such file or directory: '/Volumes/LaCie/MAC STUFF/desktop/Masters/newglobbys/m001p.ascd.gz'",
     "output_type": "error",
     "traceback": [
      "\u001B[0;31m---------------------------------------------------------------------------\u001B[0m",
      "\u001B[0;31mFileNotFoundError\u001B[0m                         Traceback (most recent call last)",
      "Cell \u001B[0;32mIn [9], line 6\u001B[0m\n\u001B[1;32m      3\u001B[0m \u001B[38;5;28;01mfor\u001B[39;00m row \u001B[38;5;129;01min\u001B[39;00m sorted_table\u001B[38;5;241m.\u001B[39miterrows():\n\u001B[1;32m      4\u001B[0m     \u001B[38;5;66;03m# print(row[1])\u001B[39;00m\n\u001B[1;32m      5\u001B[0m     current_file \u001B[38;5;241m=\u001B[39m new_path \u001B[38;5;241m+\u001B[39m row[\u001B[38;5;241m1\u001B[39m][\u001B[38;5;124m'\u001B[39m\u001B[38;5;124mFieldID\u001B[39m\u001B[38;5;124m'\u001B[39m] \u001B[38;5;241m+\u001B[39m \u001B[38;5;124m'\u001B[39m\u001B[38;5;124mp.ascd.gz\u001B[39m\u001B[38;5;124m'\u001B[39m\n\u001B[0;32m----> 6\u001B[0m     df \u001B[38;5;241m=\u001B[39m \u001B[43mpd\u001B[49m\u001B[38;5;241;43m.\u001B[39;49m\u001B[43mread_table\u001B[49m\u001B[43m(\u001B[49m\u001B[43mcurrent_file\u001B[49m\u001B[43m,\u001B[49m\u001B[43m \u001B[49m\u001B[43mcompression\u001B[49m\u001B[38;5;241;43m=\u001B[39;49m\u001B[38;5;124;43m'\u001B[39;49m\u001B[38;5;124;43mgzip\u001B[39;49m\u001B[38;5;124;43m'\u001B[39;49m\u001B[43m,\u001B[49m\u001B[43m \u001B[49m\u001B[43msep\u001B[49m\u001B[38;5;241;43m=\u001B[39;49m\u001B[38;5;124;43m'\u001B[39;49m\u001B[38;5;124;43m\\\u001B[39;49m\u001B[38;5;124;43ms+\u001B[39;49m\u001B[38;5;124;43m'\u001B[39;49m\u001B[43m,\u001B[49m\u001B[43m \u001B[49m\u001B[43mskipinitialspace\u001B[49m\u001B[43m \u001B[49m\u001B[38;5;241;43m=\u001B[39;49m\u001B[38;5;28;43;01mTrue\u001B[39;49;00m\u001B[43m,\u001B[49m\u001B[43mheader\u001B[49m\u001B[38;5;241;43m=\u001B[39;49m\u001B[38;5;241;43m0\u001B[39;49m\u001B[43m,\u001B[49m\n\u001B[1;32m      7\u001B[0m \u001B[43m                   \u001B[49m\u001B[43mnames\u001B[49m\u001B[38;5;241;43m=\u001B[39;49m\u001B[43m[\u001B[49m\u001B[38;5;124;43m'\u001B[39;49m\u001B[38;5;124;43mRA\u001B[39;49m\u001B[38;5;124;43m'\u001B[39;49m\u001B[43m,\u001B[49m\u001B[43m \u001B[49m\u001B[38;5;124;43m'\u001B[39;49m\u001B[38;5;124;43mDec\u001B[39;49m\u001B[38;5;124;43m'\u001B[39;49m\u001B[43m,\u001B[49m\u001B[38;5;124;43m'\u001B[39;49m\u001B[38;5;124;43miccd\u001B[39;49m\u001B[38;5;124;43m'\u001B[39;49m\u001B[43m,\u001B[49m\u001B[38;5;124;43m'\u001B[39;49m\u001B[38;5;124;43mxg\u001B[39;49m\u001B[38;5;124;43m'\u001B[39;49m\u001B[43m,\u001B[49m\u001B[38;5;124;43m'\u001B[39;49m\u001B[38;5;124;43myg\u001B[39;49m\u001B[38;5;124;43m'\u001B[39;49m\u001B[43m,\u001B[49m\u001B[38;5;124;43m'\u001B[39;49m\u001B[38;5;124;43mg\u001B[39;49m\u001B[38;5;124;43m'\u001B[39;49m\u001B[43m,\u001B[49m\u001B[38;5;124;43m'\u001B[39;49m\u001B[38;5;124;43mdg\u001B[39;49m\u001B[38;5;124;43m'\u001B[39;49m\u001B[43m,\u001B[49m\u001B[38;5;124;43m'\u001B[39;49m\u001B[38;5;124;43mig\u001B[39;49m\u001B[38;5;124;43m'\u001B[39;49m\u001B[43m,\u001B[49m\u001B[38;5;124;43m'\u001B[39;49m\u001B[38;5;124;43mxi\u001B[39;49m\u001B[38;5;124;43m'\u001B[39;49m\u001B[43m,\u001B[49m\u001B[38;5;124;43m'\u001B[39;49m\u001B[38;5;124;43myi\u001B[39;49m\u001B[38;5;124;43m'\u001B[39;49m\u001B[43m,\u001B[49m\u001B[43m \u001B[49m\u001B[38;5;124;43m'\u001B[39;49m\u001B[38;5;124;43mi\u001B[39;49m\u001B[38;5;124;43m'\u001B[39;49m\u001B[43m,\u001B[49m\u001B[38;5;124;43m'\u001B[39;49m\u001B[38;5;124;43mdi\u001B[39;49m\u001B[38;5;124;43m'\u001B[39;49m\u001B[43m,\u001B[49m\u001B[38;5;124;43m'\u001B[39;49m\u001B[38;5;124;43mii\u001B[39;49m\u001B[38;5;124;43m'\u001B[39;49m\u001B[43m,\u001B[49m\u001B[38;5;124;43m'\u001B[39;49m\u001B[38;5;124;43mia\u001B[39;49m\u001B[38;5;124;43m'\u001B[39;49m\u001B[43m,\u001B[49m\u001B[38;5;124;43m'\u001B[39;49m\u001B[38;5;124;43mfield\u001B[39;49m\u001B[38;5;124;43m'\u001B[39;49m\u001B[43m,\u001B[49m\u001B[43m \u001B[49m\u001B[38;5;124;43m'\u001B[39;49m\u001B[38;5;124;43m#\u001B[39;49m\u001B[38;5;124;43m'\u001B[39;49m\u001B[43m]\u001B[49m\u001B[43m)\u001B[49m\n\u001B[1;32m      8\u001B[0m     df\u001B[38;5;241m.\u001B[39mdrop(\u001B[38;5;124m'\u001B[39m\u001B[38;5;124m#\u001B[39m\u001B[38;5;124m'\u001B[39m, axis\u001B[38;5;241m=\u001B[39m\u001B[38;5;241m1\u001B[39m)\n\u001B[1;32m      9\u001B[0m     \u001B[38;5;66;03m# print(df['RA'])\u001B[39;00m\n\u001B[1;32m     10\u001B[0m     \u001B[38;5;66;03m# RA = np.array(df['RA'])\u001B[39;00m\n\u001B[1;32m     11\u001B[0m     \u001B[38;5;66;03m# Dec = np.array(df['Dec'])\u001B[39;00m\n\u001B[1;32m     12\u001B[0m     \u001B[38;5;66;03m# c = SkyCoord(ra=RA*u.degree, dec=Dec*u.degree)\u001B[39;00m\n",
      "File \u001B[0;32m~/.conda/envs/Masters/lib/python3.9/site-packages/pandas/util/_decorators.py:311\u001B[0m, in \u001B[0;36mdeprecate_nonkeyword_arguments.<locals>.decorate.<locals>.wrapper\u001B[0;34m(*args, **kwargs)\u001B[0m\n\u001B[1;32m    305\u001B[0m \u001B[38;5;28;01mif\u001B[39;00m \u001B[38;5;28mlen\u001B[39m(args) \u001B[38;5;241m>\u001B[39m num_allow_args:\n\u001B[1;32m    306\u001B[0m     warnings\u001B[38;5;241m.\u001B[39mwarn(\n\u001B[1;32m    307\u001B[0m         msg\u001B[38;5;241m.\u001B[39mformat(arguments\u001B[38;5;241m=\u001B[39marguments),\n\u001B[1;32m    308\u001B[0m         \u001B[38;5;167;01mFutureWarning\u001B[39;00m,\n\u001B[1;32m    309\u001B[0m         stacklevel\u001B[38;5;241m=\u001B[39mstacklevel,\n\u001B[1;32m    310\u001B[0m     )\n\u001B[0;32m--> 311\u001B[0m \u001B[38;5;28;01mreturn\u001B[39;00m \u001B[43mfunc\u001B[49m\u001B[43m(\u001B[49m\u001B[38;5;241;43m*\u001B[39;49m\u001B[43margs\u001B[49m\u001B[43m,\u001B[49m\u001B[43m \u001B[49m\u001B[38;5;241;43m*\u001B[39;49m\u001B[38;5;241;43m*\u001B[39;49m\u001B[43mkwargs\u001B[49m\u001B[43m)\u001B[49m\n",
      "File \u001B[0;32m~/.conda/envs/Masters/lib/python3.9/site-packages/pandas/io/parsers/readers.py:777\u001B[0m, in \u001B[0;36mread_table\u001B[0;34m(filepath_or_buffer, sep, delimiter, header, names, index_col, usecols, squeeze, prefix, mangle_dupe_cols, dtype, engine, converters, true_values, false_values, skipinitialspace, skiprows, skipfooter, nrows, na_values, keep_default_na, na_filter, verbose, skip_blank_lines, parse_dates, infer_datetime_format, keep_date_col, date_parser, dayfirst, cache_dates, iterator, chunksize, compression, thousands, decimal, lineterminator, quotechar, quoting, doublequote, escapechar, comment, encoding, encoding_errors, dialect, error_bad_lines, warn_bad_lines, on_bad_lines, delim_whitespace, low_memory, memory_map, float_precision, storage_options)\u001B[0m\n\u001B[1;32m    762\u001B[0m kwds_defaults \u001B[38;5;241m=\u001B[39m _refine_defaults_read(\n\u001B[1;32m    763\u001B[0m     dialect,\n\u001B[1;32m    764\u001B[0m     delimiter,\n\u001B[0;32m   (...)\u001B[0m\n\u001B[1;32m    773\u001B[0m     defaults\u001B[38;5;241m=\u001B[39m{\u001B[38;5;124m\"\u001B[39m\u001B[38;5;124mdelimiter\u001B[39m\u001B[38;5;124m\"\u001B[39m: \u001B[38;5;124m\"\u001B[39m\u001B[38;5;130;01m\\t\u001B[39;00m\u001B[38;5;124m\"\u001B[39m},\n\u001B[1;32m    774\u001B[0m )\n\u001B[1;32m    775\u001B[0m kwds\u001B[38;5;241m.\u001B[39mupdate(kwds_defaults)\n\u001B[0;32m--> 777\u001B[0m \u001B[38;5;28;01mreturn\u001B[39;00m \u001B[43m_read\u001B[49m\u001B[43m(\u001B[49m\u001B[43mfilepath_or_buffer\u001B[49m\u001B[43m,\u001B[49m\u001B[43m \u001B[49m\u001B[43mkwds\u001B[49m\u001B[43m)\u001B[49m\n",
      "File \u001B[0;32m~/.conda/envs/Masters/lib/python3.9/site-packages/pandas/io/parsers/readers.py:575\u001B[0m, in \u001B[0;36m_read\u001B[0;34m(filepath_or_buffer, kwds)\u001B[0m\n\u001B[1;32m    572\u001B[0m _validate_names(kwds\u001B[38;5;241m.\u001B[39mget(\u001B[38;5;124m\"\u001B[39m\u001B[38;5;124mnames\u001B[39m\u001B[38;5;124m\"\u001B[39m, \u001B[38;5;28;01mNone\u001B[39;00m))\n\u001B[1;32m    574\u001B[0m \u001B[38;5;66;03m# Create the parser.\u001B[39;00m\n\u001B[0;32m--> 575\u001B[0m parser \u001B[38;5;241m=\u001B[39m \u001B[43mTextFileReader\u001B[49m\u001B[43m(\u001B[49m\u001B[43mfilepath_or_buffer\u001B[49m\u001B[43m,\u001B[49m\u001B[43m \u001B[49m\u001B[38;5;241;43m*\u001B[39;49m\u001B[38;5;241;43m*\u001B[39;49m\u001B[43mkwds\u001B[49m\u001B[43m)\u001B[49m\n\u001B[1;32m    577\u001B[0m \u001B[38;5;28;01mif\u001B[39;00m chunksize \u001B[38;5;129;01mor\u001B[39;00m iterator:\n\u001B[1;32m    578\u001B[0m     \u001B[38;5;28;01mreturn\u001B[39;00m parser\n",
      "File \u001B[0;32m~/.conda/envs/Masters/lib/python3.9/site-packages/pandas/io/parsers/readers.py:932\u001B[0m, in \u001B[0;36mTextFileReader.__init__\u001B[0;34m(self, f, engine, **kwds)\u001B[0m\n\u001B[1;32m    929\u001B[0m     \u001B[38;5;28mself\u001B[39m\u001B[38;5;241m.\u001B[39moptions[\u001B[38;5;124m\"\u001B[39m\u001B[38;5;124mhas_index_names\u001B[39m\u001B[38;5;124m\"\u001B[39m] \u001B[38;5;241m=\u001B[39m kwds[\u001B[38;5;124m\"\u001B[39m\u001B[38;5;124mhas_index_names\u001B[39m\u001B[38;5;124m\"\u001B[39m]\n\u001B[1;32m    931\u001B[0m \u001B[38;5;28mself\u001B[39m\u001B[38;5;241m.\u001B[39mhandles: IOHandles \u001B[38;5;241m|\u001B[39m \u001B[38;5;28;01mNone\u001B[39;00m \u001B[38;5;241m=\u001B[39m \u001B[38;5;28;01mNone\u001B[39;00m\n\u001B[0;32m--> 932\u001B[0m \u001B[38;5;28mself\u001B[39m\u001B[38;5;241m.\u001B[39m_engine \u001B[38;5;241m=\u001B[39m \u001B[38;5;28;43mself\u001B[39;49m\u001B[38;5;241;43m.\u001B[39;49m\u001B[43m_make_engine\u001B[49m\u001B[43m(\u001B[49m\u001B[43mf\u001B[49m\u001B[43m,\u001B[49m\u001B[43m \u001B[49m\u001B[38;5;28;43mself\u001B[39;49m\u001B[38;5;241;43m.\u001B[39;49m\u001B[43mengine\u001B[49m\u001B[43m)\u001B[49m\n",
      "File \u001B[0;32m~/.conda/envs/Masters/lib/python3.9/site-packages/pandas/io/parsers/readers.py:1216\u001B[0m, in \u001B[0;36mTextFileReader._make_engine\u001B[0;34m(self, f, engine)\u001B[0m\n\u001B[1;32m   1212\u001B[0m     mode \u001B[38;5;241m=\u001B[39m \u001B[38;5;124m\"\u001B[39m\u001B[38;5;124mrb\u001B[39m\u001B[38;5;124m\"\u001B[39m\n\u001B[1;32m   1213\u001B[0m \u001B[38;5;66;03m# error: No overload variant of \"get_handle\" matches argument types\u001B[39;00m\n\u001B[1;32m   1214\u001B[0m \u001B[38;5;66;03m# \"Union[str, PathLike[str], ReadCsvBuffer[bytes], ReadCsvBuffer[str]]\"\u001B[39;00m\n\u001B[1;32m   1215\u001B[0m \u001B[38;5;66;03m# , \"str\", \"bool\", \"Any\", \"Any\", \"Any\", \"Any\", \"Any\"\u001B[39;00m\n\u001B[0;32m-> 1216\u001B[0m \u001B[38;5;28mself\u001B[39m\u001B[38;5;241m.\u001B[39mhandles \u001B[38;5;241m=\u001B[39m \u001B[43mget_handle\u001B[49m\u001B[43m(\u001B[49m\u001B[43m  \u001B[49m\u001B[38;5;66;43;03m# type: ignore[call-overload]\u001B[39;49;00m\n\u001B[1;32m   1217\u001B[0m \u001B[43m    \u001B[49m\u001B[43mf\u001B[49m\u001B[43m,\u001B[49m\n\u001B[1;32m   1218\u001B[0m \u001B[43m    \u001B[49m\u001B[43mmode\u001B[49m\u001B[43m,\u001B[49m\n\u001B[1;32m   1219\u001B[0m \u001B[43m    \u001B[49m\u001B[43mencoding\u001B[49m\u001B[38;5;241;43m=\u001B[39;49m\u001B[38;5;28;43mself\u001B[39;49m\u001B[38;5;241;43m.\u001B[39;49m\u001B[43moptions\u001B[49m\u001B[38;5;241;43m.\u001B[39;49m\u001B[43mget\u001B[49m\u001B[43m(\u001B[49m\u001B[38;5;124;43m\"\u001B[39;49m\u001B[38;5;124;43mencoding\u001B[39;49m\u001B[38;5;124;43m\"\u001B[39;49m\u001B[43m,\u001B[49m\u001B[43m \u001B[49m\u001B[38;5;28;43;01mNone\u001B[39;49;00m\u001B[43m)\u001B[49m\u001B[43m,\u001B[49m\n\u001B[1;32m   1220\u001B[0m \u001B[43m    \u001B[49m\u001B[43mcompression\u001B[49m\u001B[38;5;241;43m=\u001B[39;49m\u001B[38;5;28;43mself\u001B[39;49m\u001B[38;5;241;43m.\u001B[39;49m\u001B[43moptions\u001B[49m\u001B[38;5;241;43m.\u001B[39;49m\u001B[43mget\u001B[49m\u001B[43m(\u001B[49m\u001B[38;5;124;43m\"\u001B[39;49m\u001B[38;5;124;43mcompression\u001B[39;49m\u001B[38;5;124;43m\"\u001B[39;49m\u001B[43m,\u001B[49m\u001B[43m \u001B[49m\u001B[38;5;28;43;01mNone\u001B[39;49;00m\u001B[43m)\u001B[49m\u001B[43m,\u001B[49m\n\u001B[1;32m   1221\u001B[0m \u001B[43m    \u001B[49m\u001B[43mmemory_map\u001B[49m\u001B[38;5;241;43m=\u001B[39;49m\u001B[38;5;28;43mself\u001B[39;49m\u001B[38;5;241;43m.\u001B[39;49m\u001B[43moptions\u001B[49m\u001B[38;5;241;43m.\u001B[39;49m\u001B[43mget\u001B[49m\u001B[43m(\u001B[49m\u001B[38;5;124;43m\"\u001B[39;49m\u001B[38;5;124;43mmemory_map\u001B[39;49m\u001B[38;5;124;43m\"\u001B[39;49m\u001B[43m,\u001B[49m\u001B[43m \u001B[49m\u001B[38;5;28;43;01mFalse\u001B[39;49;00m\u001B[43m)\u001B[49m\u001B[43m,\u001B[49m\n\u001B[1;32m   1222\u001B[0m \u001B[43m    \u001B[49m\u001B[43mis_text\u001B[49m\u001B[38;5;241;43m=\u001B[39;49m\u001B[43mis_text\u001B[49m\u001B[43m,\u001B[49m\n\u001B[1;32m   1223\u001B[0m \u001B[43m    \u001B[49m\u001B[43merrors\u001B[49m\u001B[38;5;241;43m=\u001B[39;49m\u001B[38;5;28;43mself\u001B[39;49m\u001B[38;5;241;43m.\u001B[39;49m\u001B[43moptions\u001B[49m\u001B[38;5;241;43m.\u001B[39;49m\u001B[43mget\u001B[49m\u001B[43m(\u001B[49m\u001B[38;5;124;43m\"\u001B[39;49m\u001B[38;5;124;43mencoding_errors\u001B[39;49m\u001B[38;5;124;43m\"\u001B[39;49m\u001B[43m,\u001B[49m\u001B[43m \u001B[49m\u001B[38;5;124;43m\"\u001B[39;49m\u001B[38;5;124;43mstrict\u001B[39;49m\u001B[38;5;124;43m\"\u001B[39;49m\u001B[43m)\u001B[49m\u001B[43m,\u001B[49m\n\u001B[1;32m   1224\u001B[0m \u001B[43m    \u001B[49m\u001B[43mstorage_options\u001B[49m\u001B[38;5;241;43m=\u001B[39;49m\u001B[38;5;28;43mself\u001B[39;49m\u001B[38;5;241;43m.\u001B[39;49m\u001B[43moptions\u001B[49m\u001B[38;5;241;43m.\u001B[39;49m\u001B[43mget\u001B[49m\u001B[43m(\u001B[49m\u001B[38;5;124;43m\"\u001B[39;49m\u001B[38;5;124;43mstorage_options\u001B[39;49m\u001B[38;5;124;43m\"\u001B[39;49m\u001B[43m,\u001B[49m\u001B[43m \u001B[49m\u001B[38;5;28;43;01mNone\u001B[39;49;00m\u001B[43m)\u001B[49m\u001B[43m,\u001B[49m\n\u001B[1;32m   1225\u001B[0m \u001B[43m\u001B[49m\u001B[43m)\u001B[49m\n\u001B[1;32m   1226\u001B[0m \u001B[38;5;28;01massert\u001B[39;00m \u001B[38;5;28mself\u001B[39m\u001B[38;5;241m.\u001B[39mhandles \u001B[38;5;129;01mis\u001B[39;00m \u001B[38;5;129;01mnot\u001B[39;00m \u001B[38;5;28;01mNone\u001B[39;00m\n\u001B[1;32m   1227\u001B[0m f \u001B[38;5;241m=\u001B[39m \u001B[38;5;28mself\u001B[39m\u001B[38;5;241m.\u001B[39mhandles\u001B[38;5;241m.\u001B[39mhandle\n",
      "File \u001B[0;32m~/.conda/envs/Masters/lib/python3.9/site-packages/pandas/io/common.py:711\u001B[0m, in \u001B[0;36mget_handle\u001B[0;34m(path_or_buf, mode, encoding, compression, memory_map, is_text, errors, storage_options)\u001B[0m\n\u001B[1;32m    708\u001B[0m     \u001B[38;5;28;01massert\u001B[39;00m \u001B[38;5;28misinstance\u001B[39m(handle, \u001B[38;5;28mstr\u001B[39m)\n\u001B[1;32m    709\u001B[0m     \u001B[38;5;66;03m# error: Incompatible types in assignment (expression has type\u001B[39;00m\n\u001B[1;32m    710\u001B[0m     \u001B[38;5;66;03m# \"GzipFile\", variable has type \"Union[str, BaseBuffer]\")\u001B[39;00m\n\u001B[0;32m--> 711\u001B[0m     handle \u001B[38;5;241m=\u001B[39m \u001B[43mgzip\u001B[49m\u001B[38;5;241;43m.\u001B[39;49m\u001B[43mGzipFile\u001B[49m\u001B[43m(\u001B[49m\u001B[43m  \u001B[49m\u001B[38;5;66;43;03m# type: ignore[assignment]\u001B[39;49;00m\n\u001B[1;32m    712\u001B[0m \u001B[43m        \u001B[49m\u001B[43mfilename\u001B[49m\u001B[38;5;241;43m=\u001B[39;49m\u001B[43mhandle\u001B[49m\u001B[43m,\u001B[49m\n\u001B[1;32m    713\u001B[0m \u001B[43m        \u001B[49m\u001B[43mmode\u001B[49m\u001B[38;5;241;43m=\u001B[39;49m\u001B[43mioargs\u001B[49m\u001B[38;5;241;43m.\u001B[39;49m\u001B[43mmode\u001B[49m\u001B[43m,\u001B[49m\n\u001B[1;32m    714\u001B[0m \u001B[43m        \u001B[49m\u001B[38;5;241;43m*\u001B[39;49m\u001B[38;5;241;43m*\u001B[39;49m\u001B[43mcompression_args\u001B[49m\u001B[43m,\u001B[49m\n\u001B[1;32m    715\u001B[0m \u001B[43m    \u001B[49m\u001B[43m)\u001B[49m\n\u001B[1;32m    716\u001B[0m \u001B[38;5;28;01melse\u001B[39;00m:\n\u001B[1;32m    717\u001B[0m     handle \u001B[38;5;241m=\u001B[39m gzip\u001B[38;5;241m.\u001B[39mGzipFile(\n\u001B[1;32m    718\u001B[0m         \u001B[38;5;66;03m# No overload variant of \"GzipFile\" matches argument types\u001B[39;00m\n\u001B[1;32m    719\u001B[0m         \u001B[38;5;66;03m# \"Union[str, BaseBuffer]\", \"str\", \"Dict[str, Any]\"\u001B[39;00m\n\u001B[0;32m   (...)\u001B[0m\n\u001B[1;32m    722\u001B[0m         \u001B[38;5;241m*\u001B[39m\u001B[38;5;241m*\u001B[39mcompression_args,\n\u001B[1;32m    723\u001B[0m     )\n",
      "File \u001B[0;32m~/.conda/envs/Masters/lib/python3.9/gzip.py:173\u001B[0m, in \u001B[0;36mGzipFile.__init__\u001B[0;34m(self, filename, mode, compresslevel, fileobj, mtime)\u001B[0m\n\u001B[1;32m    171\u001B[0m     mode \u001B[38;5;241m+\u001B[39m\u001B[38;5;241m=\u001B[39m \u001B[38;5;124m'\u001B[39m\u001B[38;5;124mb\u001B[39m\u001B[38;5;124m'\u001B[39m\n\u001B[1;32m    172\u001B[0m \u001B[38;5;28;01mif\u001B[39;00m fileobj \u001B[38;5;129;01mis\u001B[39;00m \u001B[38;5;28;01mNone\u001B[39;00m:\n\u001B[0;32m--> 173\u001B[0m     fileobj \u001B[38;5;241m=\u001B[39m \u001B[38;5;28mself\u001B[39m\u001B[38;5;241m.\u001B[39mmyfileobj \u001B[38;5;241m=\u001B[39m \u001B[43mbuiltins\u001B[49m\u001B[38;5;241;43m.\u001B[39;49m\u001B[43mopen\u001B[49m\u001B[43m(\u001B[49m\u001B[43mfilename\u001B[49m\u001B[43m,\u001B[49m\u001B[43m \u001B[49m\u001B[43mmode\u001B[49m\u001B[43m \u001B[49m\u001B[38;5;129;43;01mor\u001B[39;49;00m\u001B[43m \u001B[49m\u001B[38;5;124;43m'\u001B[39;49m\u001B[38;5;124;43mrb\u001B[39;49m\u001B[38;5;124;43m'\u001B[39;49m\u001B[43m)\u001B[49m\n\u001B[1;32m    174\u001B[0m \u001B[38;5;28;01mif\u001B[39;00m filename \u001B[38;5;129;01mis\u001B[39;00m \u001B[38;5;28;01mNone\u001B[39;00m:\n\u001B[1;32m    175\u001B[0m     filename \u001B[38;5;241m=\u001B[39m \u001B[38;5;28mgetattr\u001B[39m(fileobj, \u001B[38;5;124m'\u001B[39m\u001B[38;5;124mname\u001B[39m\u001B[38;5;124m'\u001B[39m, \u001B[38;5;124m'\u001B[39m\u001B[38;5;124m'\u001B[39m)\n",
      "\u001B[0;31mFileNotFoundError\u001B[0m: [Errno 2] No such file or directory: '/Volumes/LaCie/MAC STUFF/desktop/Masters/newglobbys/m001p.ascd.gz'"
     ]
    }
   ],
   "source": [
    "path_files = '/Volumes/LaCie/MAC STUFF/desktop/Masters'\n",
    "new_path = path_files + '/newglobbys/'\n",
    "for row in sorted_table.iterrows():\n",
    "    # print(row[1])\n",
    "    current_file = new_path + row[1]['FieldID'] + 'p.ascd.gz'\n",
    "    df = pd.read_table(current_file, compression='gzip', sep='\\s+', skipinitialspace =True,header=0,\n",
    "                   names=['RA', 'Dec','iccd','xg','yg','g','dg','ig','xi','yi', 'i','di','ii','ia','field', '#'])\n",
    "    df.drop('#', axis=1)\n",
    "    # print(df['RA'])\n",
    "    # RA = np.array(df['RA'])\n",
    "    # Dec = np.array(df['Dec'])\n",
    "    # c = SkyCoord(ra=RA*u.degree, dec=Dec*u.degree)\n",
    "    current_coords = convertCoord(row)\n",
    "    print(current_coords)\n",
    "    goat = search_file(df, current_coords)\n",
    "    break"
   ],
   "metadata": {
    "collapsed": false
   }
  },
  {
   "cell_type": "code",
   "execution_count": null,
   "outputs": [],
   "source": [],
   "metadata": {
    "collapsed": false
   }
  }
 ],
 "metadata": {
  "kernelspec": {
   "display_name": "Python 3",
   "language": "python",
   "name": "python3"
  },
  "language_info": {
   "codemirror_mode": {
    "name": "ipython",
    "version": 2
   },
   "file_extension": ".py",
   "mimetype": "text/x-python",
   "name": "python",
   "nbconvert_exporter": "python",
   "pygments_lexer": "ipython2",
   "version": "2.7.6"
  }
 },
 "nbformat": 4,
 "nbformat_minor": 0
}
