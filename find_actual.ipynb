{
 "cells": [
  {
   "cell_type": "code",
   "execution_count": 1,
   "metadata": {},
   "outputs": [],
   "source": [
    "import pandas as pd"
   ]
  },
  {
   "cell_type": "code",
   "execution_count": 6,
   "metadata": {},
   "outputs": [],
   "source": [
    "master_catalog = pd.read_csv('master_catalog_jan_2023.csv', delimiter=',')\n",
    "master_catalog = master_catalog.drop('ID', axis=1)\n",
    "master_catalog = master_catalog.drop('DATATABLE', axis=1)\n",
    "master_catalog.dropna(inplace=True)"
   ]
  },
  {
   "cell_type": "code",
   "execution_count": 8,
   "metadata": {},
   "outputs": [],
   "source": [
    "## create DS9 regions for 'confirmed' GCs\n",
    "concat_thin_confirmed_gcs = pd.DataFrame(master_catalog[master_catalog['CLASS'] == 1])\n",
    "radius = '10.0\"'\n",
    "with open('ds9_regions/test-actual.reg', 'w') as f:\n",
    "    f.write('global color=green dashlist=8 3 width=1 font=\"helvetica 10 normal roman\" select=1 highlite=1 dash=0 fixed=0 edit=1 move=1 delete=1 include=1 source=1 \\n')\n",
    "    f.write('fk5 \\n')\n",
    "    for n in range(0,len(concat_thin_confirmed_gcs)):\n",
    "        ra = str(concat_thin_confirmed_gcs.RADEG[n:n+1].values[0])\n",
    "        dec = str(concat_thin_confirmed_gcs.DECDEG[n:n+1].values[0])\n",
    "        f.write('circle('+ra+','+dec+','+radius+') \\n')"
   ]
  }
 ],
 "metadata": {
  "kernelspec": {
   "display_name": "venv",
   "language": "python",
   "name": "python3"
  },
  "language_info": {
   "codemirror_mode": {
    "name": "ipython",
    "version": 3
   },
   "file_extension": ".py",
   "mimetype": "text/x-python",
   "name": "python",
   "nbconvert_exporter": "python",
   "pygments_lexer": "ipython3",
   "version": "3.9.10"
  },
  "orig_nbformat": 4
 },
 "nbformat": 4,
 "nbformat_minor": 2
}
