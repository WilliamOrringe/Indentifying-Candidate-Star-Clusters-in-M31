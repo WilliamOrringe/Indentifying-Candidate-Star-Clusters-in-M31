{
 "cells": [
  {
   "cell_type": "code",
   "execution_count": 2,
   "metadata": {
    "collapsed": true
   },
   "outputs": [
    {
     "name": "stderr",
     "output_type": "stream",
     "text": [
      "\n",
      "KeyboardInterrupt\n",
      "\n"
     ]
    }
   ],
   "source": [
    "import pandas as pd\n",
    "from astropy.coordinates import SkyCoord\n",
    "from astropy import units as u\n",
    "from astropy.coordinates import Angle\n",
    "from sklearn.ensemble import RandomForestClassifier\n",
    "from sklearn.model_selection import train_test_split\n",
    "from sklearn.metrics import accuracy_score"
   ]
  },
  {
   "cell_type": "code",
   "execution_count": null,
   "outputs": [],
   "source": [
    "# read in the catalog of data\n",
    "catalog_data = pd.read_csv('master_catalog_jan_2023.csv')\n",
    "\n",
    "# convert RA and Dec values in catalog_data to SkyCoord object\n",
    "catalog_coords = SkyCoord(catalog_data['RADEG'], catalog_data['DECDEG'], unit='deg')\n",
    "# read in the file containing i and g values\n",
    "ig_data = pd.read_csv('all_data.csv')\n"
   ],
   "metadata": {
    "collapsed": false
   }
  },
  {
   "cell_type": "code",
   "execution_count": null,
   "outputs": [],
   "source": [
    "\n",
    "# convert RA and Dec values in ig_data to SkyCoord object\n",
    "ig_coords = SkyCoord(Angle(ig_data['RA'], unit=u.hourangle), Angle(ig_data['Dec'], unit=u.deg))"
   ],
   "metadata": {
    "collapsed": false
   }
  },
  {
   "cell_type": "code",
   "execution_count": null,
   "outputs": [],
   "source": [
    "# find the closest match for each object in the catalog data\n",
    "idx, d2d, _ = catalog_coords.match_to_catalog_sky(ig_coords)\n",
    "\n",
    "# add the i and g values to the catalog data\n",
    "catalog_data['i'] = ig_data.iloc[idx]['i'].values\n",
    "catalog_data['g'] = ig_data.iloc[idx]['g'].values\n",
    "\n",
    "# extract features and target variable\n",
    "X = catalog_data[['RADEG', 'DECDEG', 'i', 'g']]\n",
    "y = catalog_data['CLASS']\n",
    "\n",
    "# split into training and testing datasets\n",
    "X_train, X_test, y_train, y_test = train_test_split(X, y, test_size=0.2, random_state=42)\n"
   ],
   "metadata": {
    "collapsed": false
   }
  },
  {
   "cell_type": "code",
   "execution_count": null,
   "outputs": [],
   "source": [
    "# train the random forest model\n",
    "rfc = RandomForestClassifier(n_estimators=100, random_state=42)\n",
    "rfc.fit(X_train, y_train)\n",
    "\n",
    "# make predictions on testing dataset\n",
    "y_pred = rfc.predict(X_test)\n",
    "\n",
    "# evaluate accuracy\n",
    "accuracy = accuracy_score(y_test, y_pred)\n",
    "print('Accuracy:', accuracy)"
   ],
   "metadata": {
    "collapsed": false
   }
  },
  {
   "cell_type": "markdown",
   "source": [
    "# CLEAN DATA"
   ],
   "metadata": {
    "collapsed": false
   }
  },
  {
   "cell_type": "markdown",
   "source": [
    "Remove spaces from table2.txt"
   ],
   "metadata": {
    "collapsed": false
   }
  },
  {
   "cell_type": "code",
   "execution_count": null,
   "outputs": [],
   "source": [
    "import re\n",
    "\n",
    "# Open the file for reading and writing\n",
    "with open('observations.txt', 'r+') as f:\n",
    "    # Read each line and replace multiple spaces with a single space\n",
    "    lines = f.readlines()\n",
    "    f.seek(0)  # move the file pointer to the beginning of the file\n",
    "    f.truncate()  # clear the file content\n",
    "\n",
    "    for line in lines:\n",
    "        # Use regular expression to replace multiple spaces with a single space\n",
    "        new_line = re.sub(' +', ' ', line)\n",
    "        # Write the modified line to the file\n",
    "        f.write(new_line)\n"
   ],
   "metadata": {
    "collapsed": false
   }
  },
  {
   "cell_type": "markdown",
   "source": [
    "Unzip catalog data"
   ],
   "metadata": {
    "collapsed": false
   }
  },
  {
   "cell_type": "code",
   "execution_count": null,
   "outputs": [],
   "source": [
    "# import os\n",
    "# import gzip\n",
    "#\n",
    "# # Define the directory path\n",
    "# dir_path = 'CATALOGS/'\n",
    "#\n",
    "# # Loop over all file names in the directory\n",
    "# for filename in os.listdir(dir_path):\n",
    "#     # Check if the filename ends with '.gz'\n",
    "#     if filename.endswith('.gz'):\n",
    "#         # Open the gzip file for reading and the uncompressed file for writing\n",
    "#         with gzip.open(os.path.join(dir_path, filename), 'rb') as f_in, \\\n",
    "#              open(os.path.join(dir_path, filename[:-3]), 'wb') as f_out:\n",
    "#             # Copy the contents of the gzip file to the uncompressed file\n",
    "#             f_out.write(f_in.read())\n",
    "#\n",
    "#         # Remove the gzip file\n",
    "#         os.remove(os.path.join(dir_path, filename))"
   ],
   "metadata": {
    "collapsed": false
   }
  },
  {
   "cell_type": "code",
   "execution_count": null,
   "outputs": [],
   "source": [
    "import os\n",
    "import gzip\n",
    "import concurrent.futures\n",
    "\n",
    "# Define the directory path\n",
    "dir_path = 'CATALOGS/'\n",
    "\n",
    "def process_file(filename):\n",
    "    # Check if the filename ends with '.gz'\n",
    "    if filename.endswith('.gz'):\n",
    "        # Open the gzip file for reading and the uncompressed file for writing\n",
    "        with gzip.open(os.path.join(dir_path, filename), 'rb') as f_in, \\\n",
    "             open(os.path.join(dir_path, filename[:-3]), 'wb') as f_out:\n",
    "            # Copy the contents of the gzip file to the uncompressed file\n",
    "            f_out.write(f_in.read())\n",
    "\n",
    "        # Remove the gzip file\n",
    "        os.remove(os.path.join(dir_path, filename))\n",
    "\n",
    "# Loop over all file names in the directory\n",
    "with concurrent.futures.ThreadPoolExecutor() as executor:\n",
    "    # Submit the tasks to the executor\n",
    "    futures = [executor.submit(process_file, filename) for filename in os.listdir(dir_path)]\n",
    "\n",
    "    # Wait for all tasks to complete\n",
    "    concurrent.futures.wait(futures)\n"
   ],
   "metadata": {
    "collapsed": false
   }
  },
  {
   "cell_type": "markdown",
   "source": [
    "Remove leading white space and remove # also remove multiple spaces in a row"
   ],
   "metadata": {
    "collapsed": false
   }
  },
  {
   "cell_type": "code",
   "execution_count": null,
   "outputs": [],
   "source": [
    "import os\n",
    "import re\n",
    "import shutil\n",
    "\n",
    "# Define the directory path\n",
    "dir_path = 'CATALOGS/'\n",
    "\n",
    "# Loop over all file names in the directory\n",
    "for filename in os.listdir(dir_path):\n",
    "    # Check if the filename matches the pattern 'mXXXp.ascd'\n",
    "    if int(filename[1:4]) >= 0:\n",
    "        if re.match(r'm\\d{3}p\\.ascd', filename):\n",
    "            # Open the file for reading and writing\n",
    "            with open(os.path.join(dir_path, filename), 'r') as f_in, \\\n",
    "                 open(os.path.join(dir_path, filename + '.tmp'), 'w') as f_out:\n",
    "                # Read each line and replace multiple spaces with a single space\n",
    "                for line in f_in:\n",
    "                    # Remove leading spaces and the first '#' character from each line\n",
    "                    new_line = re.sub(r'^\\s*#?\\s*', '', line)\n",
    "                    new_line = re.sub(' +', ' ', new_line)\n",
    "                    # Write the modified line to the temporary file\n",
    "                    f_out.write(new_line)\n",
    "\n",
    "            # Replace the original file with the temporary file\n",
    "            shutil.move(os.path.join(dir_path, filename + '.tmp'), os.path.join(dir_path, filename))"
   ],
   "metadata": {
    "collapsed": false
   }
  },
  {
   "cell_type": "code",
   "execution_count": null,
   "outputs": [],
   "source": [
    "import os\n",
    "import pandas as pd\n",
    "\n",
    "# Define the directory path\n",
    "dir_path = 'test_files/'\n",
    "\n",
    "# Define the columns to remove\n",
    "cols_to_remove = ['iccd', 'xg', 'yg', 'dg', 'ig', 'xi', 'yi', 'di', 'ii', 'ia', 'field']\n",
    "\n",
    "# Loop over all file names in the directory\n",
    "for filename in os.listdir(dir_path):\n",
    "    # Check if the filename matches the pattern 'mXXXp.ascd'\n",
    "    if filename.startswith('m') and filename.endswith('p.ascd'):\n",
    "        # Load the file into a DataFrame\n",
    "        df = pd.read_csv(os.path.join(dir_path, filename), delim_whitespace=True)\n",
    "\n",
    "        # Remove the specified columns\n",
    "        df = df.drop(columns=cols_to_remove)\n",
    "\n",
    "        # Save the modified DataFrame to a new file\n",
    "        new_filename = 'c' + filename\n",
    "        df.to_csv(os.path.join(dir_path, new_filename), sep=' ', index=False)"
   ],
   "metadata": {
    "collapsed": false
   }
  },
  {
   "cell_type": "code",
   "execution_count": 8,
   "outputs": [],
   "source": [
    "import os\n",
    "import pandas as pd\n",
    "\n",
    "# Define the directory path\n",
    "dir_path = 'CATALOGS/'\n",
    "\n",
    "# Loop over all file names in the directory\n",
    "for filename in os.listdir(dir_path):\n",
    "    # Check if the filename matches the pattern 'mXXXp.ascd'\n",
    "    if filename.startswith('m') and filename.endswith('p.ascd'):\n",
    "        # Read the file into a DataFrame\n",
    "        df = pd.read_csv(os.path.join(dir_path, filename), delim_whitespace=True)\n",
    "\n",
    "        # Remove the rows where 'ig' or 'ii' are less than or equal to 0\n",
    "        df = df[(df['ig'] != 0) & (df['ii'] != 0) & (df['g'] <= 23) & (df['i'] <= 23)]\n",
    "\n",
    "        # Remove the columns 'iccd', 'xg', 'yg', 'dg', 'ig', 'xi', 'yi', 'di', 'ii', 'ia', and 'field'\n",
    "        df.drop(columns=['iccd', 'xg', 'yg', 'dg', 'ig', 'xi', 'yi', 'di', 'ii', 'ia', 'field'], inplace=True)\n",
    "\n",
    "        # Write the modified DataFrame to a new file with a 'c' prefix\n",
    "        df.to_csv(os.path.join('very_clean/', 'c' + filename), index=False, sep=' ')\n"
   ],
   "metadata": {
    "collapsed": false
   }
  },
  {
   "cell_type": "code",
   "execution_count": null,
   "outputs": [],
   "source": [],
   "metadata": {
    "collapsed": false
   }
  }
 ],
 "metadata": {
  "kernelspec": {
   "display_name": "Python 3",
   "language": "python",
   "name": "python3"
  },
  "language_info": {
   "codemirror_mode": {
    "name": "ipython",
    "version": 2
   },
   "file_extension": ".py",
   "mimetype": "text/x-python",
   "name": "python",
   "nbconvert_exporter": "python",
   "pygments_lexer": "ipython2",
   "version": "2.7.6"
  }
 },
 "nbformat": 4,
 "nbformat_minor": 0
}
