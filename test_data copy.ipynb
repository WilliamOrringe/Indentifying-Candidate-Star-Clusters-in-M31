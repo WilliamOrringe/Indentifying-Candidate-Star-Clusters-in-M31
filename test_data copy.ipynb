{
 "cells": [
  {
   "cell_type": "code",
   "execution_count": 37,
   "metadata": {
    "ExecuteTime": {
     "start_time": "2023-04-29T19:58:27.334065Z",
     "end_time": "2023-04-29T19:58:28.229524Z"
    },
    "collapsed": false
   },
   "outputs": [
    {
     "name": "stdout",
     "output_type": "stream",
     "text": [
      "      RADEG     DECDEG  CLASS       i       g    g-i\n",
      "1  0.508375  51.606722      1  24.960  25.493  0.533\n",
      "2  0.985042  40.888667      0  22.599  23.526  0.927\n",
      "3  1.178875  47.361797      0  18.307  19.147  0.840\n",
      "4  1.350625  43.926583      0  23.435  24.263  0.828\n",
      "5  1.549625  41.503722      1  24.833  25.554  0.721\n",
      "2373\n",
      "       RADEG     DECDEG       i       g    g-i\n",
      "0  10.856687  41.260314  20.993  21.954  0.961\n",
      "1  11.279954  41.675308  19.222  20.187  0.965\n",
      "2  11.041717  42.782725  17.076  18.065  0.989\n",
      "3  10.110367  41.457419  19.811  20.986  1.175\n",
      "4  10.288150  40.598025  21.023  22.347  1.324\n",
      "{0, 1, 2}\n",
      "CLASS\n",
      "0    735\n",
      "1    735\n",
      "2    735\n",
      "Name: count, dtype: int64\n",
      "      RADEG     DECDEG  CLASS       i       g    g-i\n",
      "1  0.508375  51.606722    1.0  24.960  25.493  0.533\n",
      "2  0.985042  40.888667    0.0  22.599  23.526  0.927\n",
      "3  1.178875  47.361797    0.0  18.307  19.147  0.840\n",
      "4  1.350625  43.926583    0.0  23.435  24.263  0.828\n",
      "5  1.549625  41.503722    1.0  24.833  25.554  0.721\n",
      "2415\n",
      "       RADEG     DECDEG       i       g    g-i\n",
      "0  10.731729  41.309678  19.730  21.238  1.508\n",
      "1  10.794254  41.247586  20.299  22.451  2.152\n",
      "2  10.629317  41.205108  20.988  22.359  1.371\n",
      "3   8.460708  38.641122  23.634  24.162  0.528\n",
      "4  10.878300  41.354547  19.930  20.919  0.989\n",
      "{0.0, 1.0}\n",
      "CLASS\n",
      "0.0    735\n",
      "1.0    735\n",
      "Name: count, dtype: int64\n"
     ]
    }
   ],
   "source": [
    "import pandas as pd\n",
    "\n",
    "catalog_file = 'm254p'\n",
    "master_catalog = pd.read_csv('master_updated - Copy.csv', delimiter=',')\n",
    "master_catalog = master_catalog.drop('ID', axis=1)\n",
    "master_catalog = master_catalog.drop('DATATABLE', axis=1)\n",
    "# master_catalog = master_catalog.drop('RADEG', axis=1)\n",
    "# master_catalog = master_catalog.drop('DECDEG', axis=1)\n",
    "master_catalog.dropna(inplace=True)\n",
    "# Create new columns for (i-g) and (g-i)\n",
    "# master_catalog['i-g'] = master_catalog['i'] - master_catalog['g']\n",
    "master_catalog['g-i'] = master_catalog['g'] - master_catalog['i']\n",
    "other_master = master_catalog.copy()\n",
    "# master_catalog = master_catalog.drop('RADEG', axis=1)\n",
    "# master_catalog = master_catalog.drop('DECDEG', axis=1)\n",
    "# master_catalog = master_catalog.drop(master_catalog==[2 ,3 , 5, 7, 8 ,9])\n",
    "# master_catalog_temp = master_catalog[master_catalog.CLASS==1]\n",
    "\n",
    "other_master = other_master[~other_master['CLASS'].isin([2, 3, 5, 7, 8, 9])]\n",
    "\n",
    "class_dict_other = {1: 0, 4: 1, 6: 2}\n",
    "\n",
    "other_master['CLASS'] = other_master['CLASS'].map(class_dict_other)\n",
    "print(other_master.head())\n",
    "print(len(other_master))\n",
    "class_counts = other_master['CLASS'].value_counts()\n",
    "num_datapoints = min(class_counts)\n",
    "\n",
    "# sample the same number of datapoints from each class\n",
    "master_catalog_balanced_other = other_master.groupby('CLASS').apply(lambda x: x.sample(n=num_datapoints)).reset_index(drop=True)\n",
    "\n",
    "# print the modified dataframe\n",
    "# print(master_catalog_balanced.head())\n",
    "X = master_catalog_balanced_other.drop('CLASS', axis=1) # Features\n",
    "print(X.head())\n",
    "y = master_catalog_balanced_other['CLASS'] # Target variable\n",
    "print((set(y)))\n",
    "print(y.value_counts())\n",
    "# class_dict = {1: 0, 4: 1, 6: 2, 2: 0, 3: 1, 9: 2, 8: 2, 7:2}\n",
    "class_dict = {1: 0, 4: 1, 6: 1, 3: 1, 9: 1, 8: 1, 7:1}\n",
    "master_catalog = master_catalog[~master_catalog['CLASS'].isin([2, 3])]\n",
    "\n",
    "# relabel the 'CLASS' attribute using the map method\n",
    "master_catalog['CLASS'] = master_catalog['CLASS'].map(class_dict)\n",
    "print(master_catalog.head())\n",
    "print(len(master_catalog))\n",
    "class_counts = master_catalog['CLASS'].value_counts()\n",
    "\n",
    "# define the desired number of datapoints per class\n",
    "num_datapoints = min(class_counts)\n",
    "\n",
    "# sample the same number of datapoints from each class\n",
    "master_catalog_balanced = master_catalog.groupby('CLASS').apply(lambda x: x.sample(n=num_datapoints)).reset_index(drop=True)\n",
    "\n",
    "# print the modified dataframe\n",
    "# print(master_catalog_balanced.head())\n",
    "X = master_catalog_balanced.drop('CLASS', axis=1) # Features\n",
    "print(X.head())\n",
    "y = master_catalog_balanced['CLASS'] # Target variable\n",
    "print((set(y)))\n",
    "print(y.value_counts())"
   ]
  },
  {
   "cell_type": "code",
   "execution_count": 38,
   "metadata": {
    "ExecuteTime": {
     "start_time": "2023-04-29T19:58:28.198608Z",
     "end_time": "2023-04-29T19:58:41.776057Z"
    },
    "collapsed": false
   },
   "outputs": [
    {
     "name": "stdout",
     "output_type": "stream",
     "text": [
      "      RADEG     DECDEG       i       g    g-i\n",
      "0  9.397504  41.448975  13.217  13.559  0.342\n",
      "1  9.305471  41.640758  13.271  13.551  0.280\n",
      "2  9.281571  41.638725  13.270  13.580  0.310\n",
      "3  9.352037  41.454961  13.149  13.728  0.579\n",
      "4  9.292558  41.566975  13.269  13.729  0.460\n"
     ]
    }
   ],
   "source": [
    "from astropy.coordinates import SkyCoord\n",
    "from astropy import units as u\n",
    "m001p = pd.read_csv('very_clean/c'+ str(catalog_file) +'.ascd', delimiter=' ')\n",
    "new_columns = {'Dec': 'DECDEG', 'RA': 'RADEG'}\n",
    "m001p = m001p.rename(columns=new_columns)\n",
    "col = m001p.pop('g')\n",
    "m001p.insert(3, 'g', col)\n",
    "# m001p.iloc[:, [2, 3]] = m001p.iloc[:, [3, 2]]\n",
    "m001p['g-i'] = m001p['g'] - m001p['i']\n",
    "# ra_deg = float(row['RAh']) * 15 + float(row['RAm']) * 0.25 + float(row['RAs']) * 0.00416667\n",
    "# dec_deg = float(row['DEd']) + (float(row['DEm'])/60) + (float(row['DEs'])/3600)\n",
    "catalog_coord = SkyCoord(ra=m001p['RADEG'], dec=m001p['DECDEG'], unit=(u.hourangle, u.deg))\n",
    "m001p['RADEG'] = catalog_coord.ra.degree\n",
    "m001p['DECDEG'] = catalog_coord.dec.degree\n",
    "print(m001p.head())"
   ]
  },
  {
   "cell_type": "code",
   "execution_count": 39,
   "metadata": {
    "ExecuteTime": {
     "start_time": "2023-04-29T19:58:41.783037Z",
     "end_time": "2023-04-29T19:58:45.004999Z"
    },
    "collapsed": false
   },
   "outputs": [
    {
     "name": "stdout",
     "output_type": "stream",
     "text": [
      "      RADEG     DECDEG       i       g    g-i\n",
      "0  9.368487  41.595619  17.865  19.299  1.434\n",
      "1  9.310754  41.657228  18.483  19.984  1.501\n",
      "2  9.303875  41.443536  19.161  20.016  0.855\n",
      "3  9.336775  41.648711  19.656  20.245  0.589\n",
      "4  9.363542  41.465014  19.406  20.514  1.108\n"
     ]
    }
   ],
   "source": [
    "from astropy.coordinates import SkyCoord\n",
    "from astropy import units as u\n",
    "m002p = pd.read_csv('col_folder/c'+ str(catalog_file) +'.ascd', delimiter=' ')\n",
    "new_columns = {'Dec': 'DECDEG', 'RA': 'RADEG'}\n",
    "m002p = m002p.rename(columns=new_columns)\n",
    "col = m002p.pop('g')\n",
    "m002p.insert(3, 'g', col)\n",
    "# m001p.iloc[:, [2, 3]] = m001p.iloc[:, [3, 2]]\n",
    "m002p['g-i'] = m002p['g'] - m002p['i']\n",
    "# ra_deg = float(row['RAh']) * 15 + float(row['RAm']) * 0.25 + float(row['RAs']) * 0.00416667\n",
    "# dec_deg = float(row['DEd']) + (float(row['DEm'])/60) + (float(row['DEs'])/3600)\n",
    "catalog_coord = SkyCoord(ra=m002p['RADEG'], dec=m002p['DECDEG'], unit=(u.hourangle, u.deg))\n",
    "m002p['RADEG'] = catalog_coord.ra.degree\n",
    "m002p['DECDEG'] = catalog_coord.dec.degree\n",
    "# m002p = m002p.drop('RADEG', axis=1)\n",
    "# m002p = m002p.drop('DECDEG', axis=1)\n",
    "print(m002p.head())"
   ]
  },
  {
   "cell_type": "code",
   "execution_count": 40,
   "metadata": {
    "ExecuteTime": {
     "start_time": "2023-04-29T19:58:45.007713Z",
     "end_time": "2023-04-29T19:58:54.667346Z"
    },
    "collapsed": true
   },
   "outputs": [
    {
     "name": "stdout",
     "output_type": "stream",
     "text": [
      "SRF Accuracy: 0.7346938775510204\n",
      "              precision    recall  f1-score   support\n",
      "\n",
      "         0.0       0.74      0.73      0.73        73\n",
      "         1.0       0.73      0.74      0.74        74\n",
      "\n",
      "    accuracy                           0.73       147\n",
      "   macro avg       0.73      0.73      0.73       147\n",
      "weighted avg       0.73      0.73      0.73       147\n",
      "\n",
      "[0. 0. 0. ... 1. 0. 0.]\n",
      "      RADEG     DECDEG       i       g    g-i\n",
      "0  9.397504  41.448975  13.217  13.559  0.342\n",
      "1  9.305471  41.640758  13.271  13.551  0.280\n",
      "2  9.281571  41.638725  13.270  13.580  0.310\n",
      "3  9.352037  41.454961  13.149  13.728  0.579\n",
      "4  9.292558  41.566975  13.269  13.729  0.460\n",
      "SVM Accuracy: 0.6870748299319728\n",
      "              precision    recall  f1-score   support\n",
      "\n",
      "         0.0       0.66      0.77      0.71        73\n",
      "         1.0       0.73      0.61      0.66        74\n",
      "\n",
      "    accuracy                           0.69       147\n",
      "   macro avg       0.69      0.69      0.69       147\n",
      "weighted avg       0.69      0.69      0.69       147\n",
      "\n",
      "{0.0, 1.0}\n",
      "      RADEG     DECDEG       i       g    g-i\n",
      "0  9.397504  41.448975  13.217  13.559  0.342\n",
      "1  9.305471  41.640758  13.271  13.551  0.280\n",
      "2  9.281571  41.638725  13.270  13.580  0.310\n",
      "3  9.352037  41.454961  13.149  13.728  0.579\n",
      "4  9.292558  41.566975  13.269  13.729  0.460\n"
     ]
    }
   ],
   "source": [
    "from sklearn.svm import SVC\n",
    "from sklearn.metrics import accuracy_score, classification_report\n",
    "from sklearn.preprocessing import StandardScaler\n",
    "from sklearn.model_selection import train_test_split\n",
    "from sklearn.ensemble import RandomForestClassifier\n",
    "import numpy as np\n",
    "X_train, X_test, y_train, y_test = train_test_split(X, y, test_size=0.1, stratify=y)\n",
    "scaler = StandardScaler()\n",
    "X_train_scaled = scaler.fit_transform(X_train)\n",
    "X_test_scaled = scaler.transform(X_test)\n",
    "\n",
    "m001p_scaled = scaler.transform(m001p)\n",
    "SRF = RandomForestClassifier(n_estimators=400, random_state=42)\n",
    "#Train SRF\n",
    "SRF.fit(X_train_scaled, y_train)\n",
    "y_pred_srf = SRF.predict(X_test_scaled)\n",
    "print(\"SRF Accuracy:\", accuracy_score(y_test, y_pred_srf))\n",
    "print(classification_report(y_test, y_pred_srf))\n",
    "#SRF prediction result\n",
    "class_labels = SRF.predict(m001p_scaled)\n",
    "print(class_labels)\n",
    "# class_labels = rfc.predict(m001p)\n",
    "\n",
    "# get the indices of the elements that are predicted to be class 0\n",
    "class_0_indices = np.where(class_labels == 0)[0]\n",
    "class_0_indices = np.unique(class_0_indices)\n",
    "# get the data from `m001p` corresponding to the class 0 predictions\n",
    "class_0_data = m001p.iloc[class_0_indices, :]\n",
    "print(class_0_data.head())\n",
    "\n",
    "svm = SVC(kernel='rbf', random_state=42)\n",
    "svm.fit(X_train_scaled, y_train)\n",
    "y_pred_svm = svm.predict(X_test_scaled)\n",
    "print(\"SVM Accuracy:\", accuracy_score(y_test, y_pred_svm))\n",
    "print(classification_report(y_test, y_pred_svm))\n",
    "svm_class_labels = svm.predict(m001p_scaled)\n",
    "print(set(svm_class_labels))\n",
    "# get the indices of the elements that are predicted to be class 0\n",
    "svm_indices = np.where(svm_class_labels == 0)[0]\n",
    "svm_indices = np.unique(svm_indices)\n",
    "# get the data from `m001p` corresponding to the class 0 predictions\n",
    "svm_data = m001p.iloc[svm_indices, :]\n",
    "print(svm_data.head())\n"
   ]
  },
  {
   "cell_type": "code",
   "execution_count": 41,
   "metadata": {
    "ExecuteTime": {
     "start_time": "2023-04-29T19:58:54.667346Z",
     "end_time": "2023-04-29T19:59:01.946119Z"
    },
    "collapsed": false
   },
   "outputs": [
    {
     "name": "stdout",
     "output_type": "stream",
     "text": [
      "SRF Accuracy: 0.7414965986394558\n",
      "              precision    recall  f1-score   support\n",
      "\n",
      "         0.0       0.72      0.78      0.75        73\n",
      "         1.0       0.76      0.70      0.73        74\n",
      "\n",
      "    accuracy                           0.74       147\n",
      "   macro avg       0.74      0.74      0.74       147\n",
      "weighted avg       0.74      0.74      0.74       147\n",
      "\n",
      "[1. 1. 0. ... 0. 0. 0.]\n",
      "      RADEG     DECDEG       i       g    g-i\n",
      "2  9.303875  41.443536  19.161  20.016  0.855\n",
      "3  9.336775  41.648711  19.656  20.245  0.589\n",
      "4  9.363542  41.465014  19.406  20.514  1.108\n",
      "5  9.295917  41.572097  19.916  20.587  0.671\n",
      "7  9.378950  41.619875  20.468  21.020  0.552\n",
      "SVM Accuracy: 0.7210884353741497\n",
      "              precision    recall  f1-score   support\n",
      "\n",
      "         0.0       0.70      0.77      0.73        73\n",
      "         1.0       0.75      0.68      0.71        74\n",
      "\n",
      "    accuracy                           0.72       147\n",
      "   macro avg       0.72      0.72      0.72       147\n",
      "weighted avg       0.72      0.72      0.72       147\n",
      "\n",
      "{0.0, 1.0}\n",
      "[1. 1. 0. ... 0. 0. 0.]\n",
      "      RADEG     DECDEG       i       g    g-i\n",
      "2  9.303875  41.443536  19.161  20.016  0.855\n",
      "3  9.336775  41.648711  19.656  20.245  0.589\n",
      "4  9.363542  41.465014  19.406  20.514  1.108\n",
      "5  9.295917  41.572097  19.916  20.587  0.671\n",
      "7  9.378950  41.619875  20.468  21.020  0.552\n"
     ]
    }
   ],
   "source": [
    "from sklearn.svm import SVC\n",
    "from sklearn.metrics import accuracy_score, classification_report\n",
    "from sklearn.preprocessing import StandardScaler\n",
    "from sklearn.model_selection import train_test_split\n",
    "from sklearn.ensemble import RandomForestClassifier\n",
    "import numpy as np\n",
    "X_train, X_test, y_train, y_test = train_test_split(X, y, test_size=0.1, stratify=y)\n",
    "scaler = StandardScaler()\n",
    "X_train_scaled = scaler.fit_transform(X_train)\n",
    "X_test_scaled = scaler.transform(X_test)\n",
    "\n",
    "m002p_scaled = scaler.transform(m002p)\n",
    "SRF = RandomForestClassifier(n_estimators=400, random_state=42)\n",
    "#Train SRF\n",
    "SRF.fit(X_train_scaled, y_train)\n",
    "y_pred_srf2 = SRF.predict(X_test_scaled)\n",
    "print(\"SRF Accuracy:\", accuracy_score(y_test, y_pred_srf2))\n",
    "print(classification_report(y_test, y_pred_srf2))\n",
    "#SRF prediction result\n",
    "class_labels2 = SRF.predict(m002p_scaled)\n",
    "print(class_labels2)\n",
    "class_0_indices2 = np.where(class_labels2 == 0)[0]\n",
    "class_0_indices2 = np.unique(class_0_indices2)\n",
    "# get the data from `m001p` corresponding to the class 0 predictions\n",
    "class_0_data2 = m002p.iloc[class_0_indices2, :]\n",
    "print(class_0_data2.head())\n",
    "\n",
    "\n",
    "svm2 = SVC(kernel='rbf', random_state=42)\n",
    "svm2.fit(X_train_scaled, y_train)\n",
    "y_pred_svm2= svm2.predict(X_test_scaled)\n",
    "print(\"SVM Accuracy:\", accuracy_score(y_test, y_pred_svm2))\n",
    "print(classification_report(y_test, y_pred_svm2))\n",
    "svm2_class_labels = svm2.predict(m002p_scaled)\n",
    "print(set(svm2_class_labels))\n",
    "print(svm2_class_labels)\n",
    "# get the indices of the elements that are predicted to be class 0\n",
    "svm2_indices = np.where(svm2_class_labels == 0)[0]\n",
    "svm2_indices = np.unique(svm2_indices)\n",
    "# get the data from `m001p` corresponding to the class 0 predictions\n",
    "svm2_data = m002p.iloc[svm2_indices, :]\n",
    "print(svm2_data.head())\n"
   ]
  },
  {
   "cell_type": "code",
   "execution_count": 42,
   "metadata": {
    "ExecuteTime": {
     "start_time": "2023-04-29T19:59:01.953101Z",
     "end_time": "2023-04-29T19:59:08.158641Z"
    }
   },
   "outputs": [
    {
     "name": "stdout",
     "output_type": "stream",
     "text": [
      "       RADEG     DECDEG       i       g    g-i\n",
      "0  10.856687  41.260314  20.993  21.954  0.961\n",
      "1  11.279954  41.675308  19.222  20.187  0.965\n",
      "2  11.041717  42.782725  17.076  18.065  0.989\n",
      "3  10.110367  41.457419  19.811  20.986  1.175\n",
      "4  10.288150  40.598025  21.023  22.347  1.324\n",
      "SRF Accuracy: 0.7330316742081447\n",
      "              precision    recall  f1-score   support\n",
      "\n",
      "           0       0.65      0.71      0.68        73\n",
      "           1       0.85      0.85      0.85        74\n",
      "           2       0.70      0.64      0.67        74\n",
      "\n",
      "    accuracy                           0.73       221\n",
      "   macro avg       0.73      0.73      0.73       221\n",
      "weighted avg       0.73      0.73      0.73       221\n",
      "\n",
      "[1. 1. 0. ... 0. 0. 0.]\n",
      "      RADEG     DECDEG       i       g    g-i\n",
      "2  9.303875  41.443536  19.161  20.016  0.855\n",
      "3  9.336775  41.648711  19.656  20.245  0.589\n",
      "5  9.295917  41.572097  19.916  20.587  0.671\n",
      "7  9.378950  41.619875  20.468  21.020  0.552\n",
      "8  9.306812  41.439600  19.801  21.064  1.263\n",
      "SVM Accuracy: 0.6923076923076923\n",
      "              precision    recall  f1-score   support\n",
      "\n",
      "           0       0.68      0.64      0.66        73\n",
      "           1       0.79      0.76      0.77        74\n",
      "           2       0.62      0.68      0.65        74\n",
      "\n",
      "    accuracy                           0.69       221\n",
      "   macro avg       0.70      0.69      0.69       221\n",
      "weighted avg       0.70      0.69      0.69       221\n",
      "\n",
      "{0, 1, 2}\n",
      "[1 1 0 ... 2 2 2]\n",
      "      RADEG     DECDEG       i       g    g-i\n",
      "2  9.303875  41.443536  19.161  20.016  0.855\n",
      "3  9.336775  41.648711  19.656  20.245  0.589\n",
      "4  9.363542  41.465014  19.406  20.514  1.108\n",
      "5  9.295917  41.572097  19.916  20.587  0.671\n",
      "7  9.378950  41.619875  20.468  21.020  0.552\n"
     ]
    }
   ],
   "source": [
    "X = master_catalog_balanced_other.drop('CLASS', axis=1) # Features\n",
    "print(X.head())\n",
    "y = master_catalog_balanced_other['CLASS'] # Target variable\n",
    "X_train, X_test, y_train, y_test = train_test_split(X, y, test_size=0.1, stratify=y)\n",
    "scaler = StandardScaler()\n",
    "X_train_scaled = scaler.fit_transform(X_train)\n",
    "X_test_scaled = scaler.transform(X_test)\n",
    "\n",
    "m002p_scaled = scaler.transform(m002p)\n",
    "SRF = RandomForestClassifier(n_estimators=400, random_state=42)\n",
    "#Train SRF\n",
    "SRF.fit(X_train_scaled, y_train)\n",
    "y_pred_srf2_other = SRF.predict(X_test_scaled)\n",
    "print(\"SRF Accuracy:\", accuracy_score(y_test, y_pred_srf2_other))\n",
    "print(classification_report(y_test, y_pred_srf2_other))\n",
    "#SRF prediction result\n",
    "class_labels2_other = SRF.predict(m002p_scaled)\n",
    "print(class_labels2)\n",
    "class_0_indices2 = np.where(class_labels2_other == 0)[0]\n",
    "class_0_indices2 = np.unique(class_0_indices2)\n",
    "# get the data from `m001p` corresponding to the class 0 predictions\n",
    "class_0_data2_other = m002p.iloc[class_0_indices2, :]\n",
    "print(class_0_data2_other.head())\n",
    "\n",
    "\n",
    "svm2 = SVC(kernel='rbf', random_state=42)\n",
    "svm2.fit(X_train_scaled, y_train)\n",
    "y_pred_svm2_other = svm2.predict(X_test_scaled)\n",
    "print(\"SVM Accuracy:\", accuracy_score(y_test, y_pred_svm2_other))\n",
    "print(classification_report(y_test, y_pred_svm2_other))\n",
    "svm2_class_labels = svm2.predict(m002p_scaled)\n",
    "print(set(svm2_class_labels))\n",
    "print(svm2_class_labels)\n",
    "# get the indices of the elements that are predicted to be class 0\n",
    "svm2_indices = np.where(svm2_class_labels == 0)[0]\n",
    "svm2_indices = np.unique(svm2_indices)\n",
    "# get the data from `m001p` corresponding to the class 0 predictions\n",
    "svm2_data_other = m002p.iloc[svm2_indices, :]\n",
    "print(svm2_data.head())"
   ]
  },
  {
   "cell_type": "code",
   "execution_count": 43,
   "metadata": {
    "ExecuteTime": {
     "start_time": "2023-04-29T19:59:08.161149Z",
     "end_time": "2023-04-29T19:59:08.167131Z"
    },
    "collapsed": false
   },
   "outputs": [],
   "source": [
    "import pickle\n",
    "\n",
    "# with open('rfc86.pkl', 'wb') as f:\n",
    "#     pickle.dump(SRF, f)\n",
    "# with open('svm86.pkl', 'wb') as f:\n",
    "#     pickle.dump(svm, f)"
   ]
  },
  {
   "cell_type": "code",
   "execution_count": 44,
   "metadata": {
    "ExecuteTime": {
     "start_time": "2023-04-29T19:59:08.168129Z",
     "end_time": "2023-04-29T19:59:08.313288Z"
    },
    "collapsed": false
   },
   "outputs": [
    {
     "name": "stdout",
     "output_type": "stream",
     "text": [
      "13694\n",
      "12397\n",
      "4406\n",
      "4293\n",
      "      RADEG     DECDEG       i       g    g-i\n",
      "0  9.397504  41.448975  13.217  13.559  0.342\n",
      "1  9.305471  41.640758  13.271  13.551  0.280\n",
      "2  9.281571  41.638725  13.270  13.580  0.310\n",
      "3  9.352037  41.454961  13.149  13.728  0.579\n",
      "4  9.292558  41.566975  13.269  13.729  0.460\n",
      "11477\n",
      "3759\n",
      "        RADEG     DECDEG       i       g    g-i\n",
      "149  9.303875  41.443536  19.161  20.016  0.855\n",
      "163  9.336775  41.648711  19.656  20.245  0.589\n",
      "186  9.295917  41.572097  19.916  20.587  0.671\n",
      "206  9.378950  41.619875  20.468  21.020  0.552\n",
      "211  9.284192  41.623061  20.397  21.072  0.675\n",
      "3541\n",
      "      RADEG     DECDEG       i       g    g-i\n",
      "2  9.303875  41.443536  19.161  20.016  0.855\n",
      "3  9.336775  41.648711  19.656  20.245  0.589\n",
      "5  9.295917  41.572097  19.916  20.587  0.671\n",
      "7  9.378950  41.619875  20.468  21.020  0.552\n",
      "9  9.284192  41.623061  20.397  21.072  0.675\n"
     ]
    }
   ],
   "source": [
    "print(len(svm_data))\n",
    "print(len(class_0_data))\n",
    "print(len(svm2_data))\n",
    "print(len(class_0_data2))\n",
    "merged_data = pd.merge(svm_data, class_0_data, how='inner')\n",
    "merged_data2 = pd.merge(svm2_data, class_0_data2, how='inner')\n",
    "# create a new dataframe that contains only the rows that match between `svm_data` and `class_0_data`\n",
    "matched_data = svm_data[svm_data.isin(merged_data.to_dict(orient='list')).all(1)]\n",
    "matched_data2 = svm2_data[svm2_data.isin(merged_data2.to_dict(orient='list')).all(1)]\n",
    "triple_merged = pd.merge(matched_data, matched_data2, how='inner')\n",
    "last_matched = class_0_data[class_0_data.isin(triple_merged.to_dict(orient='list')).all(1)]\n",
    "\n",
    "\n",
    "matched_data3 = class_0_data2_other[class_0_data2_other.isin(last_matched.to_dict(orient='list')).all(1)]\n",
    "\n",
    "print(matched_data.head())\n",
    "print(len(matched_data))\n",
    "print(len(matched_data2))\n",
    "print(last_matched.head())\n",
    "print(len(last_matched))\n",
    "\n",
    "print(matched_data3.head())"
   ]
  },
  {
   "cell_type": "code",
   "execution_count": 45,
   "metadata": {
    "ExecuteTime": {
     "start_time": "2023-04-29T19:59:08.320269Z",
     "end_time": "2023-04-29T19:59:16.795784Z"
    }
   },
   "outputs": [
    {
     "name": "stdout",
     "output_type": "stream",
     "text": [
      "          RADEG     DECDEG       i       g    g-i\n",
      "340    9.276625  41.635494  20.681  22.395  1.714\n",
      "445    9.275746  41.635619  21.728  22.828  1.100\n",
      "807    9.234200  41.552969  20.993  21.758  0.765\n",
      "814    9.164504  41.469844  21.008  21.830  0.822\n",
      "835    9.262087  41.475183  20.060  22.006  1.946\n",
      "...         ...        ...     ...     ...    ...\n",
      "17662  8.363342  40.751503  22.076  22.937  0.861\n",
      "17840  8.230521  40.695247  19.656  20.661  1.005\n",
      "17945  8.170983  40.730572  20.813  21.872  1.059\n",
      "18027  8.231321  40.695186  20.648  22.639  1.991\n",
      "18096  8.172033  40.730728  22.239  22.961  0.722\n",
      "\n",
      "[254 rows x 5 columns]\n",
      "254\n"
     ]
    }
   ],
   "source": [
    "def filter_points(df, threshold):\n",
    "    coords = SkyCoord(ra=df['RADEG'].values * u.degree, dec=df['DECDEG'].values * u.degree, frame='icrs')\n",
    "\n",
    "    def has_nearby_point(coord, threshold):\n",
    "        distances = coord.separation(coords)\n",
    "        nearby_points = distances < threshold\n",
    "        return np.sum(nearby_points) > 1  # Exclude the point itself\n",
    "\n",
    "    mask = np.array([has_nearby_point(coord, threshold) for coord in coords])\n",
    "    filtered_df = df[mask]\n",
    "    return filtered_df\n",
    "df = pd.DataFrame(last_matched)\n",
    "\n",
    "# Define the distance threshold\n",
    "threshold = 3 * u.arcsecond\n",
    "\n",
    "# Filter the DataFrame\n",
    "filtered_df = filter_points(df, threshold)\n",
    "print(filtered_df)\n",
    "print(len(filtered_df))\n",
    "# new_filtered_df = filter_points(df, threshold)\n",
    "# print(new_filtered_df)\n",
    "# print(len(new_filtered_df))"
   ]
  },
  {
   "cell_type": "code",
   "execution_count": 46,
   "metadata": {
    "ExecuteTime": {
     "start_time": "2023-04-29T19:59:16.802729Z",
     "end_time": "2023-04-29T19:59:16.852115Z"
    },
    "collapsed": false
   },
   "outputs": [],
   "source": [
    "## create DS9 regions for 'confirmed' GCs\n",
    "concat_thin_confirmed_gcs = pd.DataFrame(filtered_df)\n",
    "radius = '10.0\"'\n",
    "with open('ds9_regions/'+ str(catalog_file) +'-filtereds.reg', 'w') as f:\n",
    "    f.write('global color=green dashlist=8 3 width=1 font=\"helvetica 10 normal roman\" select=1 highlite=1 dash=0 fixed=0 edit=1 move=1 delete=1 include=1 source=1 \\n')\n",
    "    f.write('fk5 \\n')\n",
    "    for n in range(0,len(concat_thin_confirmed_gcs)):\n",
    "        ra = str(concat_thin_confirmed_gcs.RADEG[n:n+1].values[0])\n",
    "        dec = str(concat_thin_confirmed_gcs.DECDEG[n:n+1].values[0])\n",
    "        f.write('circle('+ra+','+dec+','+radius+') \\n')"
   ]
  }
 ],
 "metadata": {
  "kernelspec": {
   "display_name": "Python 3",
   "language": "python",
   "name": "python3"
  },
  "language_info": {
   "codemirror_mode": {
    "name": "ipython",
    "version": 3
   },
   "file_extension": ".py",
   "mimetype": "text/x-python",
   "name": "python",
   "nbconvert_exporter": "python",
   "pygments_lexer": "ipython3",
   "version": "3.8.0"
  }
 },
 "nbformat": 4,
 "nbformat_minor": 0
}
